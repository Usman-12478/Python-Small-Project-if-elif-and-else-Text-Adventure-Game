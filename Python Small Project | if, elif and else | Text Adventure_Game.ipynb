{
  "metadata": {
    "kernelspec": {
      "language": "python",
      "display_name": "Python 3",
      "name": "python3"
    },
    "language_info": {
      "name": "python",
      "version": "3.10.14",
      "mimetype": "text/x-python",
      "codemirror_mode": {
        "name": "ipython",
        "version": 3
      },
      "pygments_lexer": "ipython3",
      "nbconvert_exporter": "python",
      "file_extension": ".py"
    },
    "kaggle": {
      "accelerator": "none",
      "dataSources": [],
      "dockerImageVersionId": 30786,
      "isInternetEnabled": true,
      "language": "python",
      "sourceType": "notebook",
      "isGpuEnabled": false
    },
    "colab": {
      "name": "Python Small Project | Text Adventure Game",
      "provenance": [],
      "include_colab_link": true
    }
  },
  "nbformat_minor": 0,
  "nbformat": 4,
  "cells": [
    {
      "cell_type": "markdown",
      "metadata": {
        "id": "view-in-github",
        "colab_type": "text"
      },
      "source": [
        "<a href=\"https://colab.research.google.com/github/Usman-12478/Python-Small-Project-if-elif-and-else-Text-Adventure-Game/blob/main/Python%20Small%20Project%20%7C%20if%2C%20elif%20and%20else%20%7C%20Text%20Adventure_Game.ipynb\" target=\"_parent\"><img src=\"https://colab.research.google.com/assets/colab-badge.svg\" alt=\"Open In Colab\"/></a>"
      ]
    },
    {
      "cell_type": "code",
      "source": [
        "print(\"Hey Welcome to Forest Fire:\")\n",
        "print(\"========================================\")\n",
        "answer = input(\"Would you like to play the game (yes/on): \")\n",
        "if answer == \"yes\":\n",
        "    print(\"Ok So, let's start the game!!!\")\n",
        "    print(\"Loading...................\")\n",
        "    print(\"Hey Men! right now you are in the forest fire, and from here ownards your journey will be hard so be careful!!!...\")\n",
        "    print(\"Disclaimer: you'll face many peoples but actually they are not people they are the traper and they'll trapes so be sharp also!!!.........\")\n",
        "    print(\"==================================================\")\n",
        "    lady_traper = input(\"you can see a needy lady. Would you like to help her? (yes/no): \"  )\n",
        "    if lady_traper == \"yes\":\n",
        "        print(\"I have told you be carefull and concious you've lose 30% of your health, so be sharp and move forward!!!\")\n",
        "    elif lady_traper == \"no\":\n",
        "        print(\"That's nice because she is not a lady it is a trap, Move Forward!!!....\")\n",
        "    else:\n",
        "        print(\"Invalid Choice. Please try again!!\")\n",
        "    print(\"==========================================================\")\n",
        "    man_traper = input(\"There is a man, he is injured he need help. Would you like to help him? (yes/no): \")\n",
        "    if man_traper == \"yes\":\n",
        "        print(\"You've lose 50% of your health I have told you that you have to be sharp and be concious\")\n",
        "    elif man_traper == \"no\":\n",
        "        print(\"That's nice decision because it is a another trap.\")\n",
        "    else:\n",
        "        print(\"Invalid Choice. Please try again!!\")\n",
        "    print(\"=============================================================\")\n",
        "    kid_trapper = input(\"You can see a walker and in that walker there's a small and cute kid. He've lost his mom and dad. Would you like to adopt that kid: \")\n",
        "    if kid_trapper == \"yes\":\n",
        "        print(\"You are dead because It is a Monstor!!!\")\n",
        "        print(\"Game Over!!!!!!!!.........................\")\n",
        "    elif kid_trapper == \"no\":\n",
        "        print(\"That is a nice decision now move forward quickly, you don't have a time too much.\")\n",
        "        print(\"=========================================================\")\n",
        "        print(\"That is the Haunted House, Which called little Prince house and it is been closed for many year's and no one wanna go inside that house, becuause they think there are the ghosts inside the house but you have to go inside the house and you have find picture of little prince that you'll see in the wall.\")\n",
        "        little_prince = input(\"Would you like to go inside the house (yes/no): \")\n",
        "        if little_prince == \"yes\":\n",
        "            print(\"Ok, So be concious it is not easy enough that you think.\")\n",
        "            print(\"======================================\")\n",
        "            print(\"Now Open the door of the house and move forward to the upstairs, hey listen get the torch.....Now Good Luck !!\")\n",
        "            prince_pic = input(\"Would you like to get the picture? (yes/no): \")\n",
        "            if prince_pic == \"yes\":\n",
        "                print(\"Now Run because there are alot of bats and snakes that will never left you alone they all will kill you!!!.....\")\n",
        "                print(\"=================================================\")\n",
        "                print(\"Hey listen in the Room NO. 10-24A you'll get alot of gold would you like to get the gold as well?\")\n",
        "                gold = input('(yes/no): ')\n",
        "\n",
        "                if gold == \"yes\":\n",
        "                    print(\"Move forward and then turn left then you'll see the last Room 10-24A Open that door!!\")\n",
        "                    print(\"There will be alot of Snakes and they are protecting the Gold!!\")\n",
        "                    open_door = input(\"Would you still like to open the door (yes/no): \")\n",
        "                    if open_door == \"yes\":\n",
        "                        print(\"Oh My God!! The Snakes are coming to you Run back Run, quick!!\")\n",
        "                        print(\"You have lost your torch, they will not left you, they'll kill you!!\")\n",
        "                        snake_war = input(\"Would You like to kill the snakes with the Instrument that you've right now (yes/no): \")\n",
        "                        if snake_war == \"yes\":\n",
        "                            print(\"Where is the instrument that you can use to kill the snakes \")\n",
        "                            print(\"There is no Instruments, you are dead!!!\")\n",
        "                            print(\"Game Over!!!\")\n",
        "                        elif snake_war == \"no\":\n",
        "                            print(\"Oh My God! I have got the Picture of prince but I have lost the gold, but I'm blessed!!!\")\n",
        "                        else:\n",
        "                            print(\"Invalid Choice. Please try again!!!\")\n",
        "                    elif open_door == \"no\":\n",
        "                        print(\"You have used your brain that is the reason you have won the match!!!\")\n",
        "                        print(\"Congratulations!!\")\n",
        "                        print(\"==========================================\")\n",
        "                elif gold == \"no\":\n",
        "                    print(\"You've Won the match\")\n",
        "                    print(\"Congratulations!!!........\")\n",
        "                else:\n",
        "                    print(\"Invalid Choice. Please try again!!!\")\n",
        "            elif prince_pic == \"no\":\n",
        "                print(\"At the end of the game you've changes your mind because you don't want to steal the expensive picture.\")\n",
        "                print(\"================================================\")\n",
        "                print(\"Game Over!!!\")\n",
        "            else:\n",
        "                print(\"Invalid Choice. Please try again!!!........\")\n",
        "        elif little_prince == \"no\":\n",
        "            print(\"You've lost the game!!!...........\")\n",
        "            print(\"Game Over!!!\")\n",
        "        else:\n",
        "            print(\"Invalid Choice. Please try again!!!\")\n",
        "    else:\n",
        "        print(\"Invalid Choice. Please try again!!!\")\n",
        "\n",
        "\n",
        "\n",
        "elif answer == \"no\":\n",
        "    print(\"I think you are busy but you can comeback whenever you want.\")\n",
        "\n",
        "else:\n",
        "    print(\"Invalid Choise. Please try again!!!.......\")"
      ],
      "metadata": {
        "trusted": true,
        "execution": {
          "iopub.status.busy": "2024-10-11T09:06:07.244862Z",
          "iopub.execute_input": "2024-10-11T09:06:07.24537Z",
          "iopub.status.idle": "2024-10-11T09:06:51.435433Z",
          "shell.execute_reply.started": "2024-10-11T09:06:07.245313Z",
          "shell.execute_reply": "2024-10-11T09:06:51.434315Z"
        },
        "id": "iMXefQfH6TJ2",
        "outputId": "94a87b2e-55a9-4390-94a6-c92b62d7f658",
        "colab": {
          "base_uri": "https://localhost:8080/"
        }
      },
      "outputs": [
        {
          "output_type": "stream",
          "name": "stdout",
          "text": [
            "Hey Welcome to Forest Fire:\n",
            "========================================\n",
            "Would you like to play the game (yes/on): yes\n",
            "Ok So, let's start the game!!!\n",
            "Loading...................\n",
            "Hey Men! right now you are in the forest fire, and from here ownards your journey will be hard so be careful!!!...\n",
            "Disclaimer: you'll face many peoples but actually they are not people they are the traper and they'll trapes so be sharp also!!!.........\n",
            "==================================================\n",
            "you can see a needy lady. Would you like to help her? (yes/no): yes\n",
            "I have told you be carefull and concious you've lose 30% of your health, so be sharp and move forward!!!\n",
            "==========================================================\n",
            "There is a man, he is injured he need help. Would you like to help him? (yes/no): no\n",
            "That's nice decision because it is a another trap.\n",
            "=============================================================\n",
            "You can see a walker and in that walker there's a small and cute kid. He've lost his mom and dad. Would you like to adopt that kid: no\n",
            "That is a nice decision now move forward quickly, you don't have a time too much.\n",
            "=========================================================\n",
            "That is the Haunted House, Which called little Prince house and it is been closed for many year's and no one wanna go inside that house, becuause they think there are the ghosts inside the house but you have to go inside the house and you have find picture of little prince that you'll see in the wall.\n",
            "Would you like to go inside the house (yes/no): yes\n",
            "Ok, So be concious it is not easy enough that you think.\n",
            "======================================\n",
            "Now Open the door of the house and move forward to the upstairs, hey listen get the torch.....Now Good Luck !!\n",
            "Would you like to get the picture? (yes/no): yes\n",
            "Now Run because there are alot of bats and snakes that will never left you alone they all will kill you!!!.....\n",
            "=================================================\n",
            "Hey listen in the Room NO. 10-24A you'll get alot of gold would you like to get the gold as well?\n",
            "(yes/no): yes\n",
            "Move forward and then turn left then you'll see the last Room 10-24A Open that door!!\n",
            "There will be alot of Snakes and they are protecting the Gold!!\n",
            "Would you still like to open the door (yes/no): yes\n",
            "Oh My God!! The Snakes are coming to you Run back Run, quick!!\n",
            "You have lost your torch, they will not left you, they'll kill you!!\n",
            "Would You like to kill the snakes with the Instrument that you've right now (yes/no): yes\n",
            "Where is the instrument that you can use to kill the snakes \n",
            "There is no Instruments, you are dead!!!\n",
            "Game Over!!!\n"
          ]
        }
      ],
      "execution_count": 2
    },
    {
      "cell_type": "code",
      "source": [],
      "metadata": {
        "trusted": true,
        "id": "X07jRbFC6TKB"
      },
      "outputs": [],
      "execution_count": null
    }
  ]
}